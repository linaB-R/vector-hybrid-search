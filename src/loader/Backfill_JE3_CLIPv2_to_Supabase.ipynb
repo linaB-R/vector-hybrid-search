{
  "nbformat": 4,
  "nbformat_minor": 5,
  "metadata": {
    "colab": {
      "provenance": [],
      "gpuType": "T4"
    },
    "kernelspec": {
      "display_name": "Python 3",
      "name": "python3"
    },
    "accelerator": "GPU"
  },
  "cells": [
    {
      "cell_type": "markdown",
      "metadata": {
        "id": "iuT3qy-Qm09Y"
      },
      "source": [
        "# Backfill de Embeddings (JE-3 y CLIP-v2) a Supabase (Postgres + pgvector)\n",
        "\n",
        "Este notebook configura **GPU en Colab**, instala dependencias, lee **secrets** (Supabase/Postgres),\n",
        "usa **Hugging Face cache en Drive**, y ejecuta tus *backfills* mediante `python -m src.ingest...`.\n",
        "\n",
        "👉 *Sigue las celdas en orden.*"
      ],
      "id": "iuT3qy-Qm09Y"
    },
    {
      "cell_type": "markdown",
      "source": [
        "****"
      ],
      "metadata": {
        "id": "i-9n9VlbuS3q"
      },
      "id": "i-9n9VlbuS3q"
    },
    {
      "cell_type": "code",
      "metadata": {
        "id": "installs"
      },
      "source": [
        "# Instalar dependencias mínimas\n",
        "%%capture\n",
        "!pip -q install --upgrade sentence-transformers transformers psycopg2-binary boto3 python-dotenv tqdm pillow"
      ],
      "outputs": [],
      "id": "installs",
      "execution_count": 1
    },
    {
      "cell_type": "markdown",
      "source": [
        "**Versiones de libs clave**"
      ],
      "metadata": {
        "id": "QYwAaotYuUS7"
      },
      "id": "QYwAaotYuUS7"
    },
    {
      "cell_type": "code",
      "source": [
        "!pip show sentence-transformers transformers"
      ],
      "metadata": {
        "colab": {
          "base_uri": "https://localhost:8080/"
        },
        "id": "QbmXanDCtqr7",
        "outputId": "b77285dd-da78-4b70-e032-ab94a8dd0b81"
      },
      "id": "QbmXanDCtqr7",
      "execution_count": 2,
      "outputs": [
        {
          "output_type": "stream",
          "name": "stdout",
          "text": [
            "Name: sentence-transformers\n",
            "Version: 5.1.0\n",
            "Summary: Embeddings, Retrieval, and Reranking\n",
            "Home-page: https://www.SBERT.net\n",
            "Author: \n",
            "Author-email: Nils Reimers <info@nils-reimers.de>, Tom Aarsen <tom.aarsen@huggingface.co>\n",
            "License: Apache 2.0\n",
            "Location: /usr/local/lib/python3.12/dist-packages\n",
            "Requires: huggingface-hub, Pillow, scikit-learn, scipy, torch, tqdm, transformers, typing_extensions\n",
            "Required-by: \n",
            "---\n",
            "Name: transformers\n",
            "Version: 4.55.4\n",
            "Summary: State-of-the-art Machine Learning for JAX, PyTorch and TensorFlow\n",
            "Home-page: https://github.com/huggingface/transformers\n",
            "Author: The Hugging Face team (past and future) with the help of all our contributors (https://github.com/huggingface/transformers/graphs/contributors)\n",
            "Author-email: transformers@huggingface.co\n",
            "License: Apache 2.0 License\n",
            "Location: /usr/local/lib/python3.12/dist-packages\n",
            "Requires: filelock, huggingface-hub, numpy, packaging, pyyaml, regex, requests, safetensors, tokenizers, tqdm\n",
            "Required-by: peft, sentence-transformers\n"
          ]
        }
      ]
    },
    {
      "cell_type": "markdown",
      "source": [
        "**GPU y drivers**"
      ],
      "metadata": {
        "id": "6ifS7yZHtrLJ"
      },
      "id": "6ifS7yZHtrLJ"
    },
    {
      "cell_type": "code",
      "source": [
        "!nvidia-smi\n",
        "!nvidia-smi --query-gpu=name,memory.total,memory.used,driver_version --format=csv"
      ],
      "metadata": {
        "colab": {
          "base_uri": "https://localhost:8080/"
        },
        "id": "rczgeaTVtoGz",
        "outputId": "bd3a836a-4a39-46c2-8ef4-0697bafebace"
      },
      "id": "rczgeaTVtoGz",
      "execution_count": 3,
      "outputs": [
        {
          "output_type": "stream",
          "name": "stdout",
          "text": [
            "Sun Aug 24 16:40:08 2025       \n",
            "+-----------------------------------------------------------------------------------------+\n",
            "| NVIDIA-SMI 550.54.15              Driver Version: 550.54.15      CUDA Version: 12.4     |\n",
            "|-----------------------------------------+------------------------+----------------------+\n",
            "| GPU  Name                 Persistence-M | Bus-Id          Disp.A | Volatile Uncorr. ECC |\n",
            "| Fan  Temp   Perf          Pwr:Usage/Cap |           Memory-Usage | GPU-Util  Compute M. |\n",
            "|                                         |                        |               MIG M. |\n",
            "|=========================================+========================+======================|\n",
            "|   0  Tesla T4                       Off |   00000000:00:04.0 Off |                    0 |\n",
            "| N/A   37C    P8              9W /   70W |       0MiB /  15360MiB |      0%      Default |\n",
            "|                                         |                        |                  N/A |\n",
            "+-----------------------------------------+------------------------+----------------------+\n",
            "                                                                                         \n",
            "+-----------------------------------------------------------------------------------------+\n",
            "| Processes:                                                                              |\n",
            "|  GPU   GI   CI        PID   Type   Process name                              GPU Memory |\n",
            "|        ID   ID                                                               Usage      |\n",
            "|=========================================================================================|\n",
            "|  No running processes found                                                             |\n",
            "+-----------------------------------------------------------------------------------------+\n",
            "name, memory.total [MiB], memory.used [MiB], driver_version\n",
            "Tesla T4, 15360 MiB, 0 MiB, 550.54.15\n"
          ]
        }
      ]
    },
    {
      "cell_type": "markdown",
      "source": [
        "**Versiones de PyTorch/CUDA/cuDNN**"
      ],
      "metadata": {
        "id": "vU--v4Datuba"
      },
      "id": "vU--v4Datuba"
    },
    {
      "cell_type": "code",
      "source": [
        "import torch, platform\n",
        "print(\"Torch:\", torch.__version__)\n",
        "print(\"CUDA available:\", torch.cuda.is_available())\n",
        "print(\"CUDA runtime:\", torch.version.cuda)\n",
        "print(\"cuDNN:\", torch.backends.cudnn.version())\n",
        "if torch.cuda.is_available():\n",
        "    print(\"GPU:\", torch.cuda.get_device_name(0))\n"
      ],
      "metadata": {
        "colab": {
          "base_uri": "https://localhost:8080/"
        },
        "id": "7mDIzO-NtxWO",
        "outputId": "2e3f1d75-3938-41a5-d979-de36b67694d2"
      },
      "id": "7mDIzO-NtxWO",
      "execution_count": 4,
      "outputs": [
        {
          "output_type": "stream",
          "name": "stdout",
          "text": [
            "Torch: 2.8.0+cu126\n",
            "CUDA available: True\n",
            "CUDA runtime: 12.6\n",
            "cuDNN: 91002\n",
            "GPU: Tesla T4\n"
          ]
        }
      ]
    },
    {
      "cell_type": "code",
      "metadata": {
        "id": "drive_cache",
        "colab": {
          "base_uri": "https://localhost:8080/"
        },
        "outputId": "03266919-7ad7-4833-ff88-8723e13eaab7"
      },
      "source": [
        "# (Opcional pero recomendado) Montar Drive y usarlo como caché de Hugging Face\n",
        "from google.colab import drive\n",
        "drive.mount('/content/drive')\n",
        "import os\n",
        "os.environ['HF_HOME'] = '/content/drive/MyDrive/hf_cache'\n",
        "os.environ['TRANSFORMERS_CACHE'] = '/content/drive/MyDrive/hf_cache/transformers'\n",
        "print('HF_HOME =', os.environ['HF_HOME'])"
      ],
      "outputs": [
        {
          "output_type": "stream",
          "name": "stdout",
          "text": [
            "Drive already mounted at /content/drive; to attempt to forcibly remount, call drive.mount(\"/content/drive\", force_remount=True).\n",
            "HF_HOME = /content/drive/MyDrive/hf_cache\n"
          ]
        }
      ],
      "id": "drive_cache",
      "execution_count": 5
    },
    {
      "cell_type": "code",
      "metadata": {
        "id": "secrets",
        "colab": {
          "base_uri": "https://localhost:8080/"
        },
        "outputId": "668f8f63-d21a-49c7-9852-8028fc093d01"
      },
      "source": [
        "# Cargar credenciales desde Colab Secrets (Panel izquierdo > Secrets)\n",
        "from google.colab import userdata\n",
        "import os\n",
        "def _get(name):\n",
        "    try:\n",
        "        v = userdata.get(name)\n",
        "        if v is None:\n",
        "            raise KeyError\n",
        "        return v\n",
        "    except Exception:\n",
        "        raise RuntimeError(f'Secret {name} no existe o no tiene acceso para este notebook.')\n",
        "\n",
        "# Nombres sugeridos de secrets (ajústalos si usas otros):\n",
        "os.environ['user'] = _get('user')\n",
        "os.environ['password'] = _get('password')\n",
        "os.environ['host'] = _get('host')\n",
        "os.environ['port'] = _get('port')\n",
        "os.environ['dbname'] = _get('dbname')\n",
        "print('Variables de entorno cargadas: user, host, dbname (port/password ocultos)')"
      ],
      "outputs": [
        {
          "output_type": "stream",
          "name": "stdout",
          "text": [
            "Variables de entorno cargadas: user, host, dbname (port/password ocultos)\n"
          ]
        }
      ],
      "id": "secrets",
      "execution_count": 6
    },
    {
      "cell_type": "code",
      "metadata": {
        "id": "prep_tree",
        "colab": {
          "base_uri": "https://localhost:8080/"
        },
        "outputId": "455fa0a6-8480-462e-b00d-3a107cc990e1"
      },
      "source": [
        "# Preparar estructura de proyecto para imports estilo `python -m src.ingest...`\n",
        "import os, pathlib\n",
        "for p in [\n",
        "    '/content/src',\n",
        "    '/content/src/ingest',\n",
        "    '/content/src/embeddings'\n",
        "]:\n",
        "    os.makedirs(p, exist_ok=True)\n",
        "\n",
        "# Crear __init__.py para que Python trate los directorios como paquetes\n",
        "pathlib.Path('/content/src/__init__.py').write_text('')\n",
        "pathlib.Path('/content/src/ingest/__init__.py').write_text('')\n",
        "pathlib.Path('/content/src/embeddings/__init__.py').write_text('')\n",
        "print('Estructura creada. Sube tus .py en los pasos siguientes.')"
      ],
      "outputs": [
        {
          "output_type": "stream",
          "name": "stdout",
          "text": [
            "Estructura creada. Sube tus .py en los pasos siguientes.\n"
          ]
        }
      ],
      "id": "prep_tree",
      "execution_count": 7
    },
    {
      "cell_type": "code",
      "metadata": {
        "id": "uploader",
        "colab": {
          "base_uri": "https://localhost:8080/",
          "height": 125
        },
        "outputId": "142dc869-11aa-4f82-8926-171e659130d0"
      },
      "source": [
        "# Subir tus archivos locales: backfill_clip_v2.py, backfill_text_je3.py, clip_v2.py, text_je3.py\n",
        "from google.colab import files\n",
        "uploaded = files.upload()  # Selecciona los 4 archivos desde tu PC\n",
        "\n",
        "import shutil\n",
        "for fname in uploaded:\n",
        "    if fname.endswith('backfill_clip_v2.py'):\n",
        "        shutil.move(fname, '/content/src/ingest/backfill_clip_v2.py')\n",
        "    elif fname.endswith('backfill_text_je3.py'):\n",
        "        shutil.move(fname, '/content/src/ingest/backfill_text_je3.py')\n",
        "    elif fname.endswith('clip_v2.py'):\n",
        "        shutil.move(fname, '/content/src/embeddings/clip_v2.py')\n",
        "    elif fname.endswith('text_je3.py'):\n",
        "        shutil.move(fname, '/content/src/embeddings/text_je3.py')\n",
        "    else:\n",
        "        print('Archivo no reconocido:', fname)\n",
        "print('Archivos colocados en /content/src/...')"
      ],
      "outputs": [
        {
          "output_type": "display_data",
          "data": {
            "text/plain": [
              "<IPython.core.display.HTML object>"
            ],
            "text/html": [
              "\n",
              "     <input type=\"file\" id=\"files-6ed63da9-9c4c-4548-8030-561103117605\" name=\"files[]\" multiple disabled\n",
              "        style=\"border:none\" />\n",
              "     <output id=\"result-6ed63da9-9c4c-4548-8030-561103117605\">\n",
              "      Upload widget is only available when the cell has been executed in the\n",
              "      current browser session. Please rerun this cell to enable.\n",
              "      </output>\n",
              "      <script>// Copyright 2017 Google LLC\n",
              "//\n",
              "// Licensed under the Apache License, Version 2.0 (the \"License\");\n",
              "// you may not use this file except in compliance with the License.\n",
              "// You may obtain a copy of the License at\n",
              "//\n",
              "//      http://www.apache.org/licenses/LICENSE-2.0\n",
              "//\n",
              "// Unless required by applicable law or agreed to in writing, software\n",
              "// distributed under the License is distributed on an \"AS IS\" BASIS,\n",
              "// WITHOUT WARRANTIES OR CONDITIONS OF ANY KIND, either express or implied.\n",
              "// See the License for the specific language governing permissions and\n",
              "// limitations under the License.\n",
              "\n",
              "/**\n",
              " * @fileoverview Helpers for google.colab Python module.\n",
              " */\n",
              "(function(scope) {\n",
              "function span(text, styleAttributes = {}) {\n",
              "  const element = document.createElement('span');\n",
              "  element.textContent = text;\n",
              "  for (const key of Object.keys(styleAttributes)) {\n",
              "    element.style[key] = styleAttributes[key];\n",
              "  }\n",
              "  return element;\n",
              "}\n",
              "\n",
              "// Max number of bytes which will be uploaded at a time.\n",
              "const MAX_PAYLOAD_SIZE = 100 * 1024;\n",
              "\n",
              "function _uploadFiles(inputId, outputId) {\n",
              "  const steps = uploadFilesStep(inputId, outputId);\n",
              "  const outputElement = document.getElementById(outputId);\n",
              "  // Cache steps on the outputElement to make it available for the next call\n",
              "  // to uploadFilesContinue from Python.\n",
              "  outputElement.steps = steps;\n",
              "\n",
              "  return _uploadFilesContinue(outputId);\n",
              "}\n",
              "\n",
              "// This is roughly an async generator (not supported in the browser yet),\n",
              "// where there are multiple asynchronous steps and the Python side is going\n",
              "// to poll for completion of each step.\n",
              "// This uses a Promise to block the python side on completion of each step,\n",
              "// then passes the result of the previous step as the input to the next step.\n",
              "function _uploadFilesContinue(outputId) {\n",
              "  const outputElement = document.getElementById(outputId);\n",
              "  const steps = outputElement.steps;\n",
              "\n",
              "  const next = steps.next(outputElement.lastPromiseValue);\n",
              "  return Promise.resolve(next.value.promise).then((value) => {\n",
              "    // Cache the last promise value to make it available to the next\n",
              "    // step of the generator.\n",
              "    outputElement.lastPromiseValue = value;\n",
              "    return next.value.response;\n",
              "  });\n",
              "}\n",
              "\n",
              "/**\n",
              " * Generator function which is called between each async step of the upload\n",
              " * process.\n",
              " * @param {string} inputId Element ID of the input file picker element.\n",
              " * @param {string} outputId Element ID of the output display.\n",
              " * @return {!Iterable<!Object>} Iterable of next steps.\n",
              " */\n",
              "function* uploadFilesStep(inputId, outputId) {\n",
              "  const inputElement = document.getElementById(inputId);\n",
              "  inputElement.disabled = false;\n",
              "\n",
              "  const outputElement = document.getElementById(outputId);\n",
              "  outputElement.innerHTML = '';\n",
              "\n",
              "  const pickedPromise = new Promise((resolve) => {\n",
              "    inputElement.addEventListener('change', (e) => {\n",
              "      resolve(e.target.files);\n",
              "    });\n",
              "  });\n",
              "\n",
              "  const cancel = document.createElement('button');\n",
              "  inputElement.parentElement.appendChild(cancel);\n",
              "  cancel.textContent = 'Cancel upload';\n",
              "  const cancelPromise = new Promise((resolve) => {\n",
              "    cancel.onclick = () => {\n",
              "      resolve(null);\n",
              "    };\n",
              "  });\n",
              "\n",
              "  // Wait for the user to pick the files.\n",
              "  const files = yield {\n",
              "    promise: Promise.race([pickedPromise, cancelPromise]),\n",
              "    response: {\n",
              "      action: 'starting',\n",
              "    }\n",
              "  };\n",
              "\n",
              "  cancel.remove();\n",
              "\n",
              "  // Disable the input element since further picks are not allowed.\n",
              "  inputElement.disabled = true;\n",
              "\n",
              "  if (!files) {\n",
              "    return {\n",
              "      response: {\n",
              "        action: 'complete',\n",
              "      }\n",
              "    };\n",
              "  }\n",
              "\n",
              "  for (const file of files) {\n",
              "    const li = document.createElement('li');\n",
              "    li.append(span(file.name, {fontWeight: 'bold'}));\n",
              "    li.append(span(\n",
              "        `(${file.type || 'n/a'}) - ${file.size} bytes, ` +\n",
              "        `last modified: ${\n",
              "            file.lastModifiedDate ? file.lastModifiedDate.toLocaleDateString() :\n",
              "                                    'n/a'} - `));\n",
              "    const percent = span('0% done');\n",
              "    li.appendChild(percent);\n",
              "\n",
              "    outputElement.appendChild(li);\n",
              "\n",
              "    const fileDataPromise = new Promise((resolve) => {\n",
              "      const reader = new FileReader();\n",
              "      reader.onload = (e) => {\n",
              "        resolve(e.target.result);\n",
              "      };\n",
              "      reader.readAsArrayBuffer(file);\n",
              "    });\n",
              "    // Wait for the data to be ready.\n",
              "    let fileData = yield {\n",
              "      promise: fileDataPromise,\n",
              "      response: {\n",
              "        action: 'continue',\n",
              "      }\n",
              "    };\n",
              "\n",
              "    // Use a chunked sending to avoid message size limits. See b/62115660.\n",
              "    let position = 0;\n",
              "    do {\n",
              "      const length = Math.min(fileData.byteLength - position, MAX_PAYLOAD_SIZE);\n",
              "      const chunk = new Uint8Array(fileData, position, length);\n",
              "      position += length;\n",
              "\n",
              "      const base64 = btoa(String.fromCharCode.apply(null, chunk));\n",
              "      yield {\n",
              "        response: {\n",
              "          action: 'append',\n",
              "          file: file.name,\n",
              "          data: base64,\n",
              "        },\n",
              "      };\n",
              "\n",
              "      let percentDone = fileData.byteLength === 0 ?\n",
              "          100 :\n",
              "          Math.round((position / fileData.byteLength) * 100);\n",
              "      percent.textContent = `${percentDone}% done`;\n",
              "\n",
              "    } while (position < fileData.byteLength);\n",
              "  }\n",
              "\n",
              "  // All done.\n",
              "  yield {\n",
              "    response: {\n",
              "      action: 'complete',\n",
              "    }\n",
              "  };\n",
              "}\n",
              "\n",
              "scope.google = scope.google || {};\n",
              "scope.google.colab = scope.google.colab || {};\n",
              "scope.google.colab._files = {\n",
              "  _uploadFiles,\n",
              "  _uploadFilesContinue,\n",
              "};\n",
              "})(self);\n",
              "</script> "
            ]
          },
          "metadata": {}
        },
        {
          "output_type": "stream",
          "name": "stdout",
          "text": [
            "Saving clip_v2.py to clip_v2.py\n",
            "Saving text_je3.py to text_je3.py\n",
            "Archivos colocados en /content/src/...\n"
          ]
        }
      ],
      "id": "uploader",
      "execution_count": 8
    },
    {
      "cell_type": "code",
      "metadata": {
        "id": "sys_path",
        "colab": {
          "base_uri": "https://localhost:8080/"
        },
        "outputId": "f9ff8111-dd7e-4279-e68a-d7adbbea89d0"
      },
      "source": [
        "#  Asegurar que /content está en el PYTHONPATH (para `python -m src...`)\n",
        "import sys\n",
        "if '/content' not in sys.path:\n",
        "    sys.path.append('/content')\n",
        "print('PYTHONPATH ok')"
      ],
      "outputs": [
        {
          "output_type": "stream",
          "name": "stdout",
          "text": [
            "PYTHONPATH ok\n"
          ]
        }
      ],
      "id": "sys_path",
      "execution_count": 9
    },
    {
      "cell_type": "code",
      "metadata": {
        "id": "sanity_imports",
        "colab": {
          "base_uri": "https://localhost:8080/"
        },
        "outputId": "b2a950c4-4eb6-4461-8347-ebfff1b39f8e"
      },
      "source": [
        "#  Sanity check de imports (si falla aquí, revisa rutas y nombres)\n",
        "from src.embeddings.text_je3 import encode_texts\n",
        "from src.embeddings.clip_v2 import embed_images, embed_text\n",
        "print('Imports OK')"
      ],
      "outputs": [
        {
          "output_type": "stream",
          "name": "stderr",
          "text": [
            "/usr/local/lib/python3.12/dist-packages/transformers/utils/hub.py:111: FutureWarning: Using `TRANSFORMERS_CACHE` is deprecated and will be removed in v5 of Transformers. Use `HF_HOME` instead.\n",
            "  warnings.warn(\n"
          ]
        },
        {
          "output_type": "stream",
          "name": "stdout",
          "text": [
            "Imports OK\n"
          ]
        }
      ],
      "id": "sanity_imports",
      "execution_count": 10
    },
    {
      "cell_type": "markdown",
      "source": [
        "**SANEO:** Úsala si el runtime quedó “contaminado” con la forma incorrecta o si alguna otra celda fijó TRANSFORMERS_CACHE"
      ],
      "metadata": {
        "id": "Xj2uoN1s5f8X"
      },
      "id": "Xj2uoN1s5f8X"
    },
    {
      "cell_type": "code",
      "source": [
        "# Limpia TRANSFORMERS_CACHE (deprecado)\n",
        "os.environ.pop(\"TRANSFORMERS_CACHE\", None)  # HF recomienda HF_HOME\n",
        "\n",
        "# Corrige el allocator si alguien lo dejó con '='\n",
        "val = os.environ.get(\"PYTORCH_CUDA_ALLOC_CONF\")\n",
        "if val and \"expandable_segments=True\" in val:\n",
        "    os.environ[\"PYTORCH_CUDA_ALLOC_CONF\"] = val.replace(\"expandable_segments=True\",\n",
        "                                                        \"expandable_segments:True\")\n",
        "\n",
        "# (Re)fija lo correcto explícitamente\n",
        "os.environ.setdefault(\"HF_HOME\", \"/content/drive/MyDrive/hf_cache\")\n",
        "os.environ.setdefault(\"PYTORCH_CUDA_ALLOC_CONF\", \"expandable_segments:True\")\n",
        "\n",
        "print(\"HF_HOME =\", os.environ.get(\"HF_HOME\"))\n",
        "print(\"PYTORCH_CUDA_ALLOC_CONF =\", os.environ.get(\"PYTORCH_CUDA_ALLOC_CONF\"))\n",
        "print(\"CUDA available before import:\", torch.cuda.is_available())\n"
      ],
      "metadata": {
        "colab": {
          "base_uri": "https://localhost:8080/"
        },
        "id": "wD3zqGYZ5Dgc",
        "outputId": "b69673f5-72f6-4cb7-a5b2-94479827d8f6"
      },
      "id": "wD3zqGYZ5Dgc",
      "execution_count": 21,
      "outputs": [
        {
          "output_type": "stream",
          "name": "stdout",
          "text": [
            "HF_HOME = /content/drive/MyDrive/hf_cache\n",
            "PYTORCH_CUDA_ALLOC_CONF = expandable_segments:True\n",
            "CUDA available before import: True\n"
          ]
        }
      ]
    },
    {
      "cell_type": "code",
      "metadata": {
        "id": "run_je3",
        "colab": {
          "base_uri": "https://localhost:8080/"
        },
        "outputId": "54273ddf-f27a-4661-e5ca-dc1bfd906a8b"
      },
      "source": [
        "# Ejecutar backfill de texto (JE-3) — ajusta el batch-size según la VRAM/estabilidad\n",
        "!python -m src.ingest.backfill_text_je3 --batch-size 512"
      ],
      "outputs": [
        {
          "output_type": "stream",
          "name": "stdout",
          "text": [
            "/usr/local/lib/python3.12/dist-packages/transformers/utils/hub.py:111: FutureWarning: Using `TRANSFORMERS_CACHE` is deprecated and will be removed in v5 of Transformers. Use `HF_HOME` instead.\n",
            "  warnings.warn(\n",
            "2025-08-24 16:41:33.787060: E external/local_xla/xla/stream_executor/cuda/cuda_fft.cc:467] Unable to register cuFFT factory: Attempting to register factory for plugin cuFFT when one has already been registered\n",
            "WARNING: All log messages before absl::InitializeLog() is called are written to STDERR\n",
            "E0000 00:00:1756053693.806760   24898 cuda_dnn.cc:8579] Unable to register cuDNN factory: Attempting to register factory for plugin cuDNN when one has already been registered\n",
            "E0000 00:00:1756053693.812976   24898 cuda_blas.cc:1407] Unable to register cuBLAS factory: Attempting to register factory for plugin cuBLAS when one has already been registered\n",
            "W0000 00:00:1756053693.828193   24898 computation_placer.cc:177] computation placer already registered. Please check linkage and avoid linking the same target more than once.\n",
            "W0000 00:00:1756053693.828224   24898 computation_placer.cc:177] computation placer already registered. Please check linkage and avoid linking the same target more than once.\n",
            "W0000 00:00:1756053693.828230   24898 computation_placer.cc:177] computation placer already registered. Please check linkage and avoid linking the same target more than once.\n",
            "W0000 00:00:1756053693.828236   24898 computation_placer.cc:177] computation placer already registered. Please check linkage and avoid linking the same target more than once.\n",
            "  0% 0/100000 [00:00<?, ?it/s]A new version of the following files was downloaded from https://huggingface.co/jinaai/jina-embeddings-v3:\n",
            "- custom_st.py\n",
            ". Make sure to double-check they do not contain any added malicious code. To avoid downloading new versions of the code file, you can pin a revision.\n",
            "WARNING:transformers_modules.jinaai.xlm-roberta-flash-implementation.2b6bc3f30750b3a9648fe9b63448c09920efe9be.modeling_xlm_roberta:flash_attn is not installed. Using PyTorch native attention implementation.\n",
            "WARNING:transformers_modules.jinaai.xlm-roberta-flash-implementation.2b6bc3f30750b3a9648fe9b63448c09920efe9be.modeling_xlm_roberta:flash_attn is not installed. Using PyTorch native attention implementation.\n",
            "WARNING:transformers_modules.jinaai.xlm-roberta-flash-implementation.2b6bc3f30750b3a9648fe9b63448c09920efe9be.modeling_xlm_roberta:flash_attn is not installed. Using PyTorch native attention implementation.\n",
            "WARNING:transformers_modules.jinaai.xlm-roberta-flash-implementation.2b6bc3f30750b3a9648fe9b63448c09920efe9be.modeling_xlm_roberta:flash_attn is not installed. Using PyTorch native attention implementation.\n",
            "WARNING:transformers_modules.jinaai.xlm-roberta-flash-implementation.2b6bc3f30750b3a9648fe9b63448c09920efe9be.modeling_xlm_roberta:flash_attn is not installed. Using PyTorch native attention implementation.\n",
            "WARNING:transformers_modules.jinaai.xlm-roberta-flash-implementation.2b6bc3f30750b3a9648fe9b63448c09920efe9be.modeling_xlm_roberta:flash_attn is not installed. Using PyTorch native attention implementation.\n",
            "WARNING:transformers_modules.jinaai.xlm-roberta-flash-implementation.2b6bc3f30750b3a9648fe9b63448c09920efe9be.modeling_xlm_roberta:flash_attn is not installed. Using PyTorch native attention implementation.\n",
            "WARNING:transformers_modules.jinaai.xlm-roberta-flash-implementation.2b6bc3f30750b3a9648fe9b63448c09920efe9be.modeling_xlm_roberta:flash_attn is not installed. Using PyTorch native attention implementation.\n",
            "WARNING:transformers_modules.jinaai.xlm-roberta-flash-implementation.2b6bc3f30750b3a9648fe9b63448c09920efe9be.modeling_xlm_roberta:flash_attn is not installed. Using PyTorch native attention implementation.\n",
            "WARNING:transformers_modules.jinaai.xlm-roberta-flash-implementation.2b6bc3f30750b3a9648fe9b63448c09920efe9be.modeling_xlm_roberta:flash_attn is not installed. Using PyTorch native attention implementation.\n",
            "WARNING:transformers_modules.jinaai.xlm-roberta-flash-implementation.2b6bc3f30750b3a9648fe9b63448c09920efe9be.modeling_xlm_roberta:flash_attn is not installed. Using PyTorch native attention implementation.\n",
            "WARNING:transformers_modules.jinaai.xlm-roberta-flash-implementation.2b6bc3f30750b3a9648fe9b63448c09920efe9be.modeling_xlm_roberta:flash_attn is not installed. Using PyTorch native attention implementation.\n",
            "WARNING:transformers_modules.jinaai.xlm-roberta-flash-implementation.2b6bc3f30750b3a9648fe9b63448c09920efe9be.modeling_xlm_roberta:flash_attn is not installed. Using PyTorch native attention implementation.\n",
            "WARNING:transformers_modules.jinaai.xlm-roberta-flash-implementation.2b6bc3f30750b3a9648fe9b63448c09920efe9be.modeling_xlm_roberta:flash_attn is not installed. Using PyTorch native attention implementation.\n",
            "WARNING:transformers_modules.jinaai.xlm-roberta-flash-implementation.2b6bc3f30750b3a9648fe9b63448c09920efe9be.modeling_xlm_roberta:flash_attn is not installed. Using PyTorch native attention implementation.\n",
            "WARNING:transformers_modules.jinaai.xlm-roberta-flash-implementation.2b6bc3f30750b3a9648fe9b63448c09920efe9be.modeling_xlm_roberta:flash_attn is not installed. Using PyTorch native attention implementation.\n",
            "WARNING:transformers_modules.jinaai.xlm-roberta-flash-implementation.2b6bc3f30750b3a9648fe9b63448c09920efe9be.modeling_xlm_roberta:flash_attn is not installed. Using PyTorch native attention implementation.\n",
            "WARNING:transformers_modules.jinaai.xlm-roberta-flash-implementation.2b6bc3f30750b3a9648fe9b63448c09920efe9be.modeling_xlm_roberta:flash_attn is not installed. Using PyTorch native attention implementation.\n",
            "WARNING:transformers_modules.jinaai.xlm-roberta-flash-implementation.2b6bc3f30750b3a9648fe9b63448c09920efe9be.modeling_xlm_roberta:flash_attn is not installed. Using PyTorch native attention implementation.\n",
            "WARNING:transformers_modules.jinaai.xlm-roberta-flash-implementation.2b6bc3f30750b3a9648fe9b63448c09920efe9be.modeling_xlm_roberta:flash_attn is not installed. Using PyTorch native attention implementation.\n",
            "WARNING:transformers_modules.jinaai.xlm-roberta-flash-implementation.2b6bc3f30750b3a9648fe9b63448c09920efe9be.modeling_xlm_roberta:flash_attn is not installed. Using PyTorch native attention implementation.\n",
            "WARNING:transformers_modules.jinaai.xlm-roberta-flash-implementation.2b6bc3f30750b3a9648fe9b63448c09920efe9be.modeling_xlm_roberta:flash_attn is not installed. Using PyTorch native attention implementation.\n",
            "WARNING:transformers_modules.jinaai.xlm-roberta-flash-implementation.2b6bc3f30750b3a9648fe9b63448c09920efe9be.modeling_xlm_roberta:flash_attn is not installed. Using PyTorch native attention implementation.\n",
            "WARNING:transformers_modules.jinaai.xlm-roberta-flash-implementation.2b6bc3f30750b3a9648fe9b63448c09920efe9be.modeling_xlm_roberta:flash_attn is not installed. Using PyTorch native attention implementation.\n",
            "WARNING:transformers_modules.jinaai.xlm-roberta-flash-implementation.2b6bc3f30750b3a9648fe9b63448c09920efe9be.modeling_xlm_roberta:flash_attn is not installed. Using PyTorch native attention implementation.\n",
            " 31% 31232/100000 [51:46<4:38:52,  4.11it/s]"
          ]
        }
      ],
      "id": "run_je3",
      "execution_count": null
    },
    {
      "cell_type": "code",
      "metadata": {
        "id": "run_clip_img"
      },
      "source": [
        "# 10) Ejecutar backfill de imagen (CLIP-v2)\n",
        "!python -m src.ingest.backfill_clip_v2 --mode image --batch-size 128"
      ],
      "outputs": [],
      "id": "run_clip_img",
      "execution_count": null
    },
    {
      "cell_type": "code",
      "metadata": {
        "id": "run_clip_txt"
      },
      "source": [
        "# 11) (Opcional) Ejecutar backfill de texto con CLIP-v2\n",
        "!python -m src.ingest.backfill_clip_v2 --mode text --batch-size 256"
      ],
      "outputs": [],
      "id": "run_clip_txt",
      "execution_count": null
    },
    {
      "cell_type": "markdown",
      "metadata": {
        "id": "zQaucSOEm09l"
      },
      "source": [
        "### Tips rápidos\n",
        "- Si ves **OOM** (out-of-memory) en GPU, baja `--batch-size`.\n",
        "- Si Colab te desconecta, ejecuta por **tandas** (ej.: por rangos de `id`).\n",
        "- Reutiliza la caché en Drive para no re-descargar modelos grandes."
      ],
      "id": "zQaucSOEm09l"
    }
  ]
}